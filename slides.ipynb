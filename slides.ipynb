{
 "cells": [
  {
   "cell_type": "markdown",
   "id": "77c3aeed",
   "metadata": {
    "slideshow": {
     "slide_type": "slide"
    }
   },
   "source": [
    "# <center> **\\<PROGRAMACION en-la=\"Ingenieria_Civil\"/>**\n",
    "<center><img src=\"img/intro/abstraccion.png\" width=\"1250\" height=\"700\" align=\"middle\" alt=\"abstraction\"/>"
   ]
  },
  {
   "cell_type": "markdown",
   "id": "aabcb78e",
   "metadata": {
    "slideshow": {
     "slide_type": "slide"
    }
   },
   "source": [
    "<center><img src=\"img/intro/w_l_i.png\" width=\"1250\" height=\"700\" align=\"middle\" alt=\"wli\"/>"
   ]
  },
  {
   "cell_type": "markdown",
   "id": "4b63c789",
   "metadata": {
    "slideshow": {
     "slide_type": "slide"
    }
   },
   "source": [
    "<center><img src=\"img/intro/navegadores.jpg\" width=\"700\" height=\"500\" align=\"middle\" alt=\"nav\"/>"
   ]
  },
  {
   "cell_type": "markdown",
   "id": "4bf789ac",
   "metadata": {
    "slideshow": {
     "slide_type": "slide"
    }
   },
   "source": [
    "<center><img src=\"img/intro/backend-vs-frontend.png\" width=\"1000\" height=\"700\" align=\"middle\" alt=\"backend_vs_frontend\"/>"
   ]
  },
  {
   "cell_type": "markdown",
   "id": "68346660",
   "metadata": {
    "slideshow": {
     "slide_type": "slide"
    }
   },
   "source": [
    "<center><img src=\"img/intro/lenguajes.png\" width=\"700\" height=\"500\" align=\"middle\" alt=\"lenguajes\"/>"
   ]
  },
  {
   "cell_type": "markdown",
   "id": "aeb39116",
   "metadata": {
    "slideshow": {
     "slide_type": "slide"
    }
   },
   "source": [
    "<center><img src=\"img/intro/jupyter_nootebook.png\" width=\"800\" height=\"700\" align=\"middle\" alt=\"jupyter\"/>"
   ]
  },
  {
   "cell_type": "markdown",
   "id": "d9eddf9c",
   "metadata": {
    "slideshow": {
     "slide_type": "slide"
    }
   },
   "source": [
    "## <center> **Sistemas Operativos**\n",
    "<center><img src=\"img/SO/w_i_l_mene.jpeg\" width=\"800\" height=\"500\" align=\"middle\" alt=\"wil_joke\"/>"
   ]
  },
  {
   "cell_type": "markdown",
   "id": "ff7f12fa",
   "metadata": {
    "slideshow": {
     "slide_type": "slide"
    }
   },
   "source": [
    "<center><img src=\"img/SO/carros.jpg\" width=\"350\" height=\"500\" align=\"middle\" alt=\"carros\"/>"
   ]
  },
  {
   "cell_type": "markdown",
   "id": "1b54daea",
   "metadata": {
    "slideshow": {
     "slide_type": "slide"
    }
   },
   "source": [
    "<center><img src=\"img/SO/ubuntu.jpg\" width=\"1000\" height=\"500\" align=\"middle\" alt=\"ubuntu\"/>"
   ]
  },
  {
   "cell_type": "markdown",
   "id": "f0cc8675",
   "metadata": {
    "slideshow": {
     "slide_type": "slide"
    }
   },
   "source": [
    "<center><img src=\"img/SO/debian.png\" width=\"1000\" height=\"500\" align=\"middle\" alt=\"debian\"/>"
   ]
  },
  {
   "cell_type": "markdown",
   "id": "cd2087dc",
   "metadata": {
    "slideshow": {
     "slide_type": "slide"
    }
   },
   "source": [
    "<center><img src=\"img/SO/arch.png\" width=\"1000\" height=\"500\" align=\"middle\" alt=\"arch\"/>"
   ]
  },
  {
   "cell_type": "markdown",
   "id": "bc7e502a",
   "metadata": {
    "slideshow": {
     "slide_type": "slide"
    }
   },
   "source": [
    "## <center>**Que es La Terminal?**\n",
    "<center><img src=\"img/terminal/terminal.png\" width=\"650\" height=\"500\" align=\"middle\" alt=\"la_terminal\"/>"
   ]
  },
  {
   "cell_type": "markdown",
   "id": "1b864b76",
   "metadata": {
    "slideshow": {
     "slide_type": "slide"
    }
   },
   "source": [
    "- `ls` **list all directories**\n",
    "- `ll` **list all ditectories && the hidden too**\n",
    "- `cd /` **root folder**\n",
    "- `cd ~` **home user**\n",
    "- `cd .` **current folder**\n",
    "- `cd ..` **previous forder**\n",
    "- `cp` **copy files**\n",
    "- `mv` **move files**\n",
    "- `rm -f` **remove a file or a directory**\n",
    "- `touch` **create a file**\n",
    "- `mkdir` **create a directory**\n",
    "- `clear` **o simple Ctrl+l**"
   ]
  },
  {
   "cell_type": "markdown",
   "id": "959e45bb",
   "metadata": {
    "slideshow": {
     "slide_type": "slide"
    }
   },
   "source": [
    "## <center>**Editores de Texto**\n",
    "<center><img src=\"img/html_css_js/editores.jpg\" width=\"1000\" height=\"500\" align=\"middle\" alt=\"la_terminal\"/>"
   ]
  },
  {
   "cell_type": "markdown",
   "id": "03a022b7",
   "metadata": {
    "slideshow": {
     "slide_type": "slide"
    }
   },
   "source": [
    "### <center>**HTML**\n",
    "<center><img src=\"img/html_css_js/html.png\" width=\"1200\" height=\"500\" align=\"middle\" alt=\"html\"/>"
   ]
  },
  {
   "cell_type": "markdown",
   "id": "a530c60e",
   "metadata": {
    "slideshow": {
     "slide_type": "notes"
    }
   },
   "source": [
    "<center><img src=\"img/html_css_js/index.png\" width=\"1200\" height=\"500\" align=\"middle\" alt=\"html\"/> "
   ]
  },
  {
   "cell_type": "markdown",
   "id": "f17a8009",
   "metadata": {
    "slideshow": {
     "slide_type": "slide"
    }
   },
   "source": [
    "<center><img src=\"img/html_css_js/forma.png\" width=\"1200\" height=\"500\" align=\"middle\" alt=\"html\"/> "
   ]
  },
  {
   "cell_type": "markdown",
   "id": "ece863e2",
   "metadata": {
    "slideshow": {
     "slide_type": "slide"
    }
   },
   "source": [
    "<center><img src=\"img/html_css_js/forma.png\" width=\"1200\" height=\"500\" align=\"middle\" alt=\"html\"/> "
   ]
  },
  {
   "cell_type": "markdown",
   "id": "b40f3d02",
   "metadata": {
    "slideshow": {
     "slide_type": "slide"
    }
   },
   "source": [
    "<center><img src=\"img/html_css_js/tabla.png\" width=\"500\" height=\"500\" align=\"middle\" alt=\"html\"/> "
   ]
  },
  {
   "cell_type": "markdown",
   "id": "317b01a8",
   "metadata": {
    "slideshow": {
     "slide_type": "slide"
    }
   },
   "source": []
  },
  {
   "cell_type": "markdown",
   "id": "07605559",
   "metadata": {
    "slideshow": {
     "slide_type": "slide"
    }
   },
   "source": [
    "```html\n",
    "<html>\n",
    "  <head>\n",
    "  </head>\n",
    "</html>\n",
    "```"
   ]
  },
  {
   "cell_type": "markdown",
   "id": "1f274934",
   "metadata": {
    "slideshow": {
     "slide_type": "subslide"
    }
   },
   "source": [
    "Here is a [Link](https://example.com/ \"Optional link title\")."
   ]
  },
  {
   "cell_type": "markdown",
   "id": "26bfc455",
   "metadata": {
    "slideshow": {
     "slide_type": "subslide"
    }
   },
   "source": [
    "<https://example.com>\n",
    "`https://example.com`"
   ]
  },
  {
   "cell_type": "markdown",
   "id": "e49bb374",
   "metadata": {
    "slideshow": {
     "slide_type": "subslide"
    }
   },
   "source": [
    "![Here is an example](https://example.com/bild.jpg)"
   ]
  },
  {
   "cell_type": "markdown",
   "id": "3646c4ec",
   "metadata": {
    "slideshow": {
     "slide_type": "subslide"
    }
   },
   "source": [
    "A & B\n",
    "&alpha;\n",
    "1 < 2\n",
    "<p>"
   ]
  },
  {
   "cell_type": "markdown",
   "id": "c88f5b39",
   "metadata": {
    "slideshow": {
     "slide_type": "notes"
    }
   },
   "source": [
    "This is an \\*example with an asterisk\\*."
   ]
  },
  {
   "cell_type": "code",
   "execution_count": null,
   "id": "f6ac7bac",
   "metadata": {},
   "outputs": [],
   "source": []
  }
 ],
 "metadata": {
  "celltoolbar": "Slideshow",
  "kernelspec": {
   "display_name": "Python 3",
   "language": "python",
   "name": "python3"
  },
  "language_info": {
   "codemirror_mode": {
    "name": "ipython",
    "version": 3
   },
   "file_extension": ".py",
   "mimetype": "text/x-python",
   "name": "python",
   "nbconvert_exporter": "python",
   "pygments_lexer": "ipython3",
   "version": "3.8.8"
  }
 },
 "nbformat": 4,
 "nbformat_minor": 5
}
