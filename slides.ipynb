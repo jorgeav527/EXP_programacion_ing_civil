{
 "cells": [
  {
   "cell_type": "markdown",
   "id": "77c3aeed",
   "metadata": {
    "slideshow": {
     "slide_type": "slide"
    }
   },
   "source": [
    "<center><img src=\"img/intro/01.png\" width=\"1250\" height=\"700\" align=\"middle\" alt=\"abstraction\"/>"
   ]
  },
  {
   "cell_type": "markdown",
   "id": "aabcb78e",
   "metadata": {
    "slideshow": {
     "slide_type": "slide"
    }
   },
   "source": [
    "<center><img src=\"img/intro/02.png\" width=\"1250\" height=\"700\" align=\"middle\" alt=\"wli\"/>"
   ]
  },
  {
   "cell_type": "markdown",
   "id": "4b63c789",
   "metadata": {
    "slideshow": {
     "slide_type": "slide"
    }
   },
   "source": [
    "<center><img src=\"img/intro/03.jpg\" width=\"700\" height=\"500\" align=\"middle\" alt=\"nav\"/>"
   ]
  },
  {
   "cell_type": "markdown",
   "id": "4bf789ac",
   "metadata": {
    "slideshow": {
     "slide_type": "slide"
    }
   },
   "source": [
    "<center><img src=\"img/intro/04.png\" width=\"1000\" height=\"700\" align=\"middle\" alt=\"backend_vs_frontend\"/>"
   ]
  },
  {
   "cell_type": "markdown",
   "id": "68346660",
   "metadata": {
    "slideshow": {
     "slide_type": "slide"
    }
   },
   "source": [
    "<center><img src=\"img/intro/05.png\" width=\"700\" height=\"500\" align=\"middle\" alt=\"lenguajes\"/>"
   ]
  },
  {
   "cell_type": "markdown",
   "id": "aeb39116",
   "metadata": {
    "slideshow": {
     "slide_type": "slide"
    }
   },
   "source": [
    "<center><img src=\"img/intro/06.jpg\" width=\"800\" height=\"700\" align=\"middle\" alt=\"jupyter\"/>"
   ]
  },
  {
   "cell_type": "markdown",
   "id": "3d3f7c1f",
   "metadata": {
    "slideshow": {
     "slide_type": "slide"
    }
   },
   "source": [
    "<center><img src=\"img/intro/07.png\" width=\"800\" height=\"500\" align=\"middle\" alt=\"wil_joke\"/>"
   ]
  },
  {
   "cell_type": "markdown",
   "id": "5af2c852",
   "metadata": {
    "slideshow": {
     "slide_type": "slide"
    }
   },
   "source": [
    "<center><img src=\"img/intro/08.png\" width=\"800\" height=\"500\" align=\"middle\" alt=\"wil_joke\"/>"
   ]
  },
  {
   "cell_type": "markdown",
   "id": "4d3cddf9",
   "metadata": {
    "slideshow": {
     "slide_type": "slide"
    }
   },
   "source": [
    "<center><img src=\"img/intro/08_01.png\" width=\"800\" height=\"500\" align=\"middle\" alt=\"wil_joke\"/>\n",
    "08_01.png"
   ]
  },
  {
   "cell_type": "markdown",
   "id": "12418686",
   "metadata": {
    "slideshow": {
     "slide_type": "slide"
    }
   },
   "source": [
    "<center><img src=\"img/intro/09.png\" width=\"800\" height=\"500\" align=\"middle\" alt=\"wil_joke\"/>"
   ]
  },
  {
   "cell_type": "markdown",
   "id": "8fd88005",
   "metadata": {
    "slideshow": {
     "slide_type": "slide"
    }
   },
   "source": [
    "## <center> **Sistemas Operativos**\n",
    "<center><img src=\"img/SO/01_02.png\" width=\"800\" height=\"500\" align=\"middle\" alt=\"wil_joke\"/>"
   ]
  },
  {
   "cell_type": "markdown",
   "id": "d9eddf9c",
   "metadata": {
    "slideshow": {
     "slide_type": "slide"
    }
   },
   "source": [
    "<center><img src=\"img/SO/03.png\" width=\"400\" height=\"500\" align=\"middle\" alt=\"wil_joke\"/>"
   ]
  },
  {
   "cell_type": "markdown",
   "id": "9783c21a",
   "metadata": {
    "slideshow": {
     "slide_type": "slide"
    }
   },
   "source": [
    "<center><img src=\"img/SO/04.jpg\" width=\"400\" height=\"500\" align=\"middle\" alt=\"wil_joke\"/>"
   ]
  },
  {
   "cell_type": "markdown",
   "id": "71ec751b",
   "metadata": {
    "slideshow": {
     "slide_type": "slide"
    }
   },
   "source": [
    "<center><img src=\"img/SO/05.png\" width=\"400\" height=\"500\" align=\"middle\" alt=\"wil_joke\"/>"
   ]
  },
  {
   "cell_type": "markdown",
   "id": "28d08923",
   "metadata": {
    "slideshow": {
     "slide_type": "slide"
    }
   },
   "source": [
    "<center><img src=\"img/SO/06.jpg\" width=\"400\" height=\"500\" align=\"middle\" alt=\"wil_joke\"/>"
   ]
  },
  {
   "cell_type": "markdown",
   "id": "ce793a90",
   "metadata": {
    "slideshow": {
     "slide_type": "slide"
    }
   },
   "source": [
    "<center><img src=\"img/SO/07.png\" width=\"400\" height=\"500\" align=\"middle\" alt=\"wil_joke\"/>"
   ]
  },
  {
   "cell_type": "markdown",
   "id": "fa6c0f19",
   "metadata": {
    "slideshow": {
     "slide_type": "slide"
    }
   },
   "source": [
    "<center><img src=\"img/terminal/terminal.png\" width=\"400\" height=\"500\" align=\"middle\" alt=\"wil_joke\"/>"
   ]
  },
  {
   "cell_type": "markdown",
   "id": "f0fcd5ac",
   "metadata": {
    "slideshow": {
     "slide_type": "slide"
    }
   },
   "source": [
    "### ¿Cuáles son los comandos básicos de Linux?\n",
    "- pwd **imprime la ubicación de tu directorio de trabajo actual.**\n",
    "- ls **imprimir el contenido de un directorio**\n",
    "- cd **cambiar al directorio**\n",
    "- cat **imprimir el contenido de un archivo**\n",
    "- cp **copiar archivos y directorios**\n",
    "- mv **mover o renombrar directorios y archivos**\n",
    "- mkdir **crear un nuevo directorio**\n",
    "- rmdir **eliminar un directorio**\n",
    "- touch **crear un nuevo archivo**\n",
    "- rm -rf **eliminar permanentemente**\n",
    "- clear **eliminar permanentemente**"
   ]
  },
  {
   "cell_type": "markdown",
   "id": "b19761d3",
   "metadata": {},
   "source": [
    "<center><img src=\"img/html_css_js/01.png\" width=\"400\" height=\"500\" align=\"middle\" alt=\"wil_joke\"/>"
   ]
  },
  {
   "cell_type": "markdown",
   "id": "824bfe91",
   "metadata": {},
   "source": [
    "<center><img src=\"img/html_css_js/02.jpg\" width=\"400\" height=\"500\" align=\"middle\" alt=\"wil_joke\"/>"
   ]
  },
  {
   "cell_type": "markdown",
   "id": "388d3a72",
   "metadata": {},
   "source": [
    "<center><img src=\"img/html_css_js/02_1.png\" width=\"400\" height=\"500\" align=\"middle\" alt=\"wil_joke\"/>"
   ]
  },
  {
   "cell_type": "markdown",
   "id": "3d9d6ebc",
   "metadata": {},
   "source": [
    "<center><img src=\"img/html_css_js/09.jpg\" width=\"400\" height=\"500\" align=\"middle\" alt=\"wil_joke\"/>"
   ]
  },
  {
   "cell_type": "markdown",
   "id": "a0dfefa3",
   "metadata": {},
   "source": [
    "<center><img src=\"img/html_css_js/03.jpg\" width=\"400\" height=\"500\" align=\"middle\" alt=\"wil_joke\"/>"
   ]
  },
  {
   "cell_type": "markdown",
   "id": "6b9e5da1",
   "metadata": {},
   "source": [
    "<center><img src=\"img/html_css_js/04.jpg\" width=\"400\" height=\"500\" align=\"middle\" alt=\"wil_joke\"/>"
   ]
  },
  {
   "cell_type": "markdown",
   "id": "40071c38",
   "metadata": {},
   "source": [
    "<center><img src=\"img/html_css_js/05.jpg\" width=\"400\" height=\"500\" align=\"middle\" alt=\"wil_joke\"/>"
   ]
  },
  {
   "cell_type": "markdown",
   "id": "78e9f23b",
   "metadata": {},
   "source": [
    "<center><img src=\"img/html_css_js/06.jpg\" width=\"400\" height=\"500\" align=\"middle\" alt=\"wil_joke\"/>"
   ]
  },
  {
   "cell_type": "markdown",
   "id": "6a85b150",
   "metadata": {},
   "source": [
    "<center><img src=\"img/html_css_js/07.jpg\" width=\"400\" height=\"500\" align=\"middle\" alt=\"wil_joke\"/>"
   ]
  },
  {
   "cell_type": "markdown",
   "id": "d79707f0",
   "metadata": {},
   "source": [
    "<center><img src=\"img/html_css_js/10.jpg\" width=\"400\" height=\"500\" align=\"middle\" alt=\"wil_joke\"/>"
   ]
  },
  {
   "cell_type": "markdown",
   "id": "87098867",
   "metadata": {
    "slideshow": {
     "slide_type": "slide"
    }
   },
   "source": [
    "html code"
   ]
  },
  {
   "cell_type": "markdown",
   "id": "e8785d39",
   "metadata": {
    "slideshow": {
     "slide_type": "slide"
    }
   },
   "source": [
    "css"
   ]
  },
  {
   "cell_type": "markdown",
   "id": "a2cf506b",
   "metadata": {
    "slideshow": {
     "slide_type": "slide"
    }
   },
   "source": [
    "js"
   ]
  },
  {
   "cell_type": "markdown",
   "id": "438a5c7c",
   "metadata": {
    "slideshow": {
     "slide_type": "slide"
    }
   },
   "source": [
    "<center><img src=\"img/html_css_js/editores.jpg\" width=\"400\" height=\"500\" align=\"middle\" alt=\"wil_joke\"/>"
   ]
  },
  {
   "cell_type": "markdown",
   "id": "9fb5f3e3",
   "metadata": {},
   "source": [
    "estatica"
   ]
  },
  {
   "cell_type": "markdown",
   "id": "cfd5b5a2",
   "metadata": {},
   "source": [
    "dinamica"
   ]
  },
  {
   "cell_type": "markdown",
   "id": "14e3d492",
   "metadata": {},
   "source": [
    "bd relaciones"
   ]
  },
  {
   "cell_type": "markdown",
   "id": "7d260e6b",
   "metadata": {},
   "source": [
    "tablas conecciones"
   ]
  },
  {
   "cell_type": "markdown",
   "id": "a029758f",
   "metadata": {},
   "source": [
    "administracion de datos"
   ]
  },
  {
   "cell_type": "markdown",
   "id": "cba9e06f",
   "metadata": {},
   "source": [
    "servisios"
   ]
  },
  {
   "cell_type": "markdown",
   "id": "86509a07",
   "metadata": {},
   "source": [
    "analisis de datos"
   ]
  },
  {
   "cell_type": "markdown",
   "id": "bdca7c73",
   "metadata": {},
   "source": [
    "porque python"
   ]
  },
  {
   "cell_type": "markdown",
   "id": "76bf1f53",
   "metadata": {},
   "source": [
    "ejemplo de python"
   ]
  },
  {
   "cell_type": "raw",
   "id": "23e65658",
   "metadata": {},
   "source": [
    "librerias"
   ]
  },
  {
   "cell_type": "markdown",
   "id": "e2e91cc6",
   "metadata": {},
   "source": [
    "porq django"
   ]
  },
  {
   "cell_type": "markdown",
   "id": "4f30605d",
   "metadata": {},
   "source": [
    "pagina epick labs"
   ]
  },
  {
   "cell_type": "markdown",
   "id": "37072563",
   "metadata": {},
   "source": [
    "caracterizacion"
   ]
  },
  {
   "cell_type": "markdown",
   "id": "63ffa281",
   "metadata": {},
   "source": [
    "flujograms"
   ]
  },
  {
   "cell_type": "markdown",
   "id": "982b2dd7",
   "metadata": {},
   "source": [
    "ntp"
   ]
  },
  {
   "cell_type": "markdown",
   "id": "52ed0974",
   "metadata": {},
   "source": [
    "tabla usurarios "
   ]
  },
  {
   "cell_type": "markdown",
   "id": "46a53ba2",
   "metadata": {},
   "source": [
    "tabla diamantinos"
   ]
  },
  {
   "cell_type": "markdown",
   "id": "9d960f65",
   "metadata": {},
   "source": [
    "tala de ladrillos"
   ]
  },
  {
   "cell_type": "markdown",
   "id": "35a9425b",
   "metadata": {},
   "source": [
    "tabla de granulometria"
   ]
  },
  {
   "cell_type": "markdown",
   "id": "53eb0a54",
   "metadata": {},
   "source": [
    "ejemplo de diamantinos"
   ]
  },
  {
   "cell_type": "markdown",
   "id": "6bfd953a",
   "metadata": {},
   "source": [
    "donde aprender todo"
   ]
  },
  {
   "cell_type": "markdown",
   "id": "0c8301e8",
   "metadata": {},
   "source": [
    "gracias"
   ]
  }
 ],
 "metadata": {
  "celltoolbar": "Slideshow",
  "kernelspec": {
   "display_name": "Python 3",
   "language": "python",
   "name": "python3"
  },
  "language_info": {
   "codemirror_mode": {
    "name": "ipython",
    "version": 3
   },
   "file_extension": ".py",
   "mimetype": "text/x-python",
   "name": "python",
   "nbconvert_exporter": "python",
   "pygments_lexer": "ipython3",
   "version": "3.8.8"
  }
 },
 "nbformat": 4,
 "nbformat_minor": 5
}
