{
 "cells": [
  {
   "cell_type": "markdown",
   "id": "77c3aeed",
   "metadata": {
    "slideshow": {
     "slide_type": "slide"
    }
   },
   "source": [
    "<center><img src=\"img/intro/01.png\" width=\"1250\" height=\"700\" align=\"middle\" alt=\"abstraction\"/>"
   ]
  },
  {
   "cell_type": "markdown",
   "id": "aabcb78e",
   "metadata": {
    "slideshow": {
     "slide_type": "slide"
    }
   },
   "source": [
    "<center><img src=\"img/intro/02.png\" width=\"1250\" height=\"700\" align=\"middle\" alt=\"wli\"/>"
   ]
  },
  {
   "cell_type": "markdown",
   "id": "4b63c789",
   "metadata": {
    "slideshow": {
     "slide_type": "slide"
    }
   },
   "source": [
    "<center><img src=\"img/intro/03.jpg\" width=\"1250\" height=\"500\" align=\"middle\" alt=\"nav\"/>"
   ]
  },
  {
   "cell_type": "markdown",
   "id": "4bf789ac",
   "metadata": {
    "slideshow": {
     "slide_type": "slide"
    }
   },
   "source": [
    "<center><img src=\"img/intro/04.png\" width=\"1250\" height=\"700\" align=\"middle\" alt=\"backend_vs_frontend\"/>"
   ]
  },
  {
   "cell_type": "markdown",
   "id": "68346660",
   "metadata": {
    "slideshow": {
     "slide_type": "slide"
    }
   },
   "source": [
    "<center><img src=\"img/intro/05.png\" width=\"1000\" height=\"500\" align=\"middle\" alt=\"lenguajes\"/>"
   ]
  },
  {
   "cell_type": "markdown",
   "id": "aeb39116",
   "metadata": {
    "slideshow": {
     "slide_type": "slide"
    }
   },
   "source": [
    "<center><img src=\"img/intro/06.jpg\" width=\"1000\" height=\"700\" align=\"middle\" alt=\"jupyter\"/>"
   ]
  },
  {
   "cell_type": "markdown",
   "id": "3d3f7c1f",
   "metadata": {
    "slideshow": {
     "slide_type": "slide"
    }
   },
   "source": [
    "<center><img src=\"img/intro/07.png\" width=\"1000\" height=\"500\" align=\"middle\" alt=\"wil_joke\"/>"
   ]
  },
  {
   "cell_type": "markdown",
   "id": "5af2c852",
   "metadata": {
    "slideshow": {
     "slide_type": "slide"
    }
   },
   "source": [
    "<center><img src=\"img/intro/08.png\" width=\"800\" height=\"500\" align=\"middle\" alt=\"wil_joke\"/>"
   ]
  },
  {
   "cell_type": "markdown",
   "id": "4d3cddf9",
   "metadata": {
    "slideshow": {
     "slide_type": "slide"
    }
   },
   "source": [
    "<center><img src=\"img/intro/08_01.png\" width=\"800\" height=\"500\" align=\"middle\" alt=\"wil_joke\"/>"
   ]
  },
  {
   "cell_type": "markdown",
   "id": "12418686",
   "metadata": {
    "slideshow": {
     "slide_type": "slide"
    }
   },
   "source": [
    "<center><img src=\"img/intro/09.png\" width=\"800\" height=\"500\" align=\"middle\" alt=\"wil_joke\"/>"
   ]
  },
  {
   "cell_type": "markdown",
   "id": "8fd88005",
   "metadata": {
    "slideshow": {
     "slide_type": "slide"
    }
   },
   "source": [
    "## <center> **Sistemas Operativos**\n",
    "<center><img src=\"img/SO/01_02.png\" width=\"1000\" height=\"500\" align=\"middle\" alt=\"wil_joke\"/>"
   ]
  },
  {
   "cell_type": "markdown",
   "id": "d9eddf9c",
   "metadata": {
    "slideshow": {
     "slide_type": "slide"
    }
   },
   "source": [
    "<center><img src=\"img/SO/03.png\" width=\"500\" height=\"500\" align=\"middle\" alt=\"wil_joke\"/>"
   ]
  },
  {
   "cell_type": "markdown",
   "id": "9783c21a",
   "metadata": {
    "slideshow": {
     "slide_type": "slide"
    }
   },
   "source": [
    "<center><img src=\"img/SO/04.jpg\" width=\"350\" height=\"500\" align=\"middle\" alt=\"wil_joke\"/>"
   ]
  },
  {
   "cell_type": "markdown",
   "id": "71ec751b",
   "metadata": {
    "slideshow": {
     "slide_type": "slide"
    }
   },
   "source": [
    "<center><img src=\"img/SO/05.png\" width=\"1250\" height=\"500\" align=\"middle\" alt=\"wil_joke\"/>"
   ]
  },
  {
   "cell_type": "markdown",
   "id": "28d08923",
   "metadata": {
    "slideshow": {
     "slide_type": "slide"
    }
   },
   "source": [
    "<center><img src=\"img/SO/06.jpg\" width=\"1250\" height=\"500\" align=\"middle\" alt=\"wil_joke\"/>"
   ]
  },
  {
   "cell_type": "markdown",
   "id": "ce793a90",
   "metadata": {
    "slideshow": {
     "slide_type": "slide"
    }
   },
   "source": [
    "<center><img src=\"img/SO/07.png\" width=\"1250\" height=\"500\" align=\"middle\" alt=\"wil_joke\"/>"
   ]
  },
  {
   "cell_type": "markdown",
   "id": "fa6c0f19",
   "metadata": {
    "slideshow": {
     "slide_type": "slide"
    }
   },
   "source": [
    "<center><img src=\"img/terminal/terminal.png\" width=\"700\" height=\"500\" align=\"middle\" alt=\"wil_joke\"/>"
   ]
  },
  {
   "cell_type": "markdown",
   "id": "f0fcd5ac",
   "metadata": {
    "slideshow": {
     "slide_type": "slide"
    }
   },
   "source": [
    "### ¿Cuáles son los comandos básicos de Linux?\n",
    "- pwd **imprime la ubicación de tu directorio de trabajo actual.**\n",
    "- ls **imprimir el contenido de un directorio**\n",
    "- cd **cambiar al directorio**\n",
    "- cat **imprimir el contenido de un archivo**\n",
    "- cp **copiar archivos y directorios**\n",
    "- mv **mover o renombrar directorios y archivos**\n",
    "- mkdir **crear un nuevo directorio**\n",
    "- rmdir **eliminar un directorio**\n",
    "- touch **crear un nuevo archivo**\n",
    "- rm -rf **eliminar permanentemente**\n",
    "- clear **eliminar permanentemente**"
   ]
  },
  {
   "cell_type": "markdown",
   "id": "b19761d3",
   "metadata": {
    "slideshow": {
     "slide_type": "slide"
    }
   },
   "source": [
    "## <center> **¿Como funciona el internet?**\n",
    "<center><img src=\"img/html_css_js/01.jpg\" width=\"1100\" height=\"500\" align=\"middle\" alt=\"wil_joke\"/>"
   ]
  },
  {
   "cell_type": "markdown",
   "id": "a17da96b",
   "metadata": {
    "slideshow": {
     "slide_type": "slide"
    }
   },
   "source": [
    "<center><img src=\"img/html_css_js/01_1.png\" width=\"700\" height=\"500\" align=\"middle\" alt=\"wil_joke\"/>"
   ]
  },
  {
   "cell_type": "markdown",
   "id": "824bfe91",
   "metadata": {
    "slideshow": {
     "slide_type": "slide"
    }
   },
   "source": [
    "<center><img src=\"img/html_css_js/02.jpg\" width=\"1000\" height=\"500\" align=\"middle\" alt=\"wil_joke\"/>"
   ]
  },
  {
   "cell_type": "markdown",
   "id": "388d3a72",
   "metadata": {
    "slideshow": {
     "slide_type": "slide"
    }
   },
   "source": [
    "<center><img src=\"img/html_css_js/02_1.png\" width=\"800\" height=\"500\" align=\"middle\" alt=\"wil_joke\"/>"
   ]
  },
  {
   "cell_type": "markdown",
   "id": "78e9f23b",
   "metadata": {
    "slideshow": {
     "slide_type": "slide"
    }
   },
   "source": [
    "<center><img src=\"img/html_css_js/06.png\" width=\"800\" height=\"500\" align=\"middle\" alt=\"wil_joke\"/>"
   ]
  },
  {
   "cell_type": "markdown",
   "id": "a0dfefa3",
   "metadata": {
    "slideshow": {
     "slide_type": "slide"
    }
   },
   "source": [
    "<center><img src=\"img/html_css_js/03.jpg\" width=\"800\" height=\"500\" align=\"middle\" alt=\"wil_joke\"/>"
   ]
  },
  {
   "cell_type": "markdown",
   "id": "6a85b150",
   "metadata": {
    "slideshow": {
     "slide_type": "slide"
    }
   },
   "source": [
    "<center><img src=\"img/html_css_js/07.jpg\" width=\"800\" height=\"500\" align=\"middle\" alt=\"wil_joke\"/>"
   ]
  },
  {
   "cell_type": "markdown",
   "id": "b8936f75",
   "metadata": {
    "slideshow": {
     "slide_type": "slide"
    }
   },
   "source": [
    "<center><img src=\"img/html_css_js/02_2.jpg\" width=\"800\" height=\"500\" align=\"middle\" alt=\"wil_joke\"/>"
   ]
  },
  {
   "cell_type": "markdown",
   "id": "3d9d6ebc",
   "metadata": {
    "slideshow": {
     "slide_type": "slide"
    }
   },
   "source": [
    "<center><img src=\"img/html_css_js/09.jpg\" width=\"800\" height=\"500\" align=\"middle\" alt=\"wil_joke\"/>"
   ]
  },
  {
   "cell_type": "markdown",
   "id": "4e593c8f",
   "metadata": {
    "slideshow": {
     "slide_type": "slide"
    }
   },
   "source": [
    ">> \"Hola servidor web. ¿Me puedes dar los archivos que necesito para renderizar https://www.ucsm.edu.pe/\"? Para ver mis notas!!!\n",
    ">\n",
    ">> \"Seguro navegador web — aquí los tienes\"\n",
    ">\n",
    ">> (https://www.ucsm.edu.pe/)[UCSM]"
   ]
  },
  {
   "cell_type": "markdown",
   "id": "99dd03ee",
   "metadata": {
    "slideshow": {
     "slide_type": "slide"
    }
   },
   "source": [
    "### <center> HTML\n",
    "```html\n",
    "<!DOCTYPE html>\n",
    "<html lang=\"en\">\n",
    "    <head>\n",
    "        <meta charset=\"UTF-8\">\n",
    "        <meta name=\"viewport\" content=\"width=device-width, initial-scale=1.0\">\n",
    "        <title>Documento</title>\n",
    "        <link rel=\"stylesheet\" href=\"index_estilo.css\">\n",
    "    </head>\n",
    "    <body>\n",
    "        <header>\n",
    "            <h1>UCSM-II CIDEIC</h1>\n",
    "            <h2>Programación en la Ing. Civil</h2>\n",
    "            <h3>UCSM-2021</h3>\n",
    "            <h4>Contenido</h4>\n",
    "        </header>\n",
    "        <main>\n",
    "            <ol>\n",
    "                <li>Introducción</li>\n",
    "                <li>Terminal y Text Editors</li>\n",
    "                <li>Frontend y Backend</li>\n",
    "                <li>JavaScript y Python</li>\n",
    "                <li>Git y GitHub</li>\n",
    "                <li>Jupyter Notebook y Libraries</li>\n",
    "            </ol>\n",
    "        </main>\n",
    "        <section>\n",
    "            <h4>Ensayos</h4>\n",
    "            <ul>\n",
    "                <li>Rotura de Probetas</li>\n",
    "                <li>Granulometria</li>\n",
    "                <li>Ejemplos Extras</li>\n",
    "            </ul>\n",
    "        </section>\n",
    "        <footer>\n",
    "            <p>Ing. Jorge Ramiro Alarcón Vargas</p>\n",
    "            <img src=\"gatito.jpeg\" alt=\"img\">\n",
    "            <a href=\"http://wwww.google.com\">\n",
    "                <img src=\"gatito.jpeg\" alt=\"img\">\n",
    "            </a>\n",
    "        </footer>\n",
    "        <script src=\"main.js\"></script>\n",
    "    </body>\n",
    "</html>\n",
    "    \n",
    "```"
   ]
  },
  {
   "cell_type": "markdown",
   "id": "4198fef7",
   "metadata": {
    "slideshow": {
     "slide_type": "slide"
    }
   },
   "source": [
    "### <center> CSS\n",
    "```css\n",
    "body {\n",
    "  background-color: peru;\n",
    "}\n",
    "\n",
    "h1, h2, h3, h4 {\n",
    "  color: brown;\n",
    "}\n",
    "\n",
    "p {\n",
    "  text-align: center;\n",
    "  font-size: 1cm;\n",
    "  color: blue;\n",
    "}\n",
    "\n",
    "ol {\n",
    "  list-style-type: upper-roman;\n",
    "}\n",
    "    \n",
    "img {\n",
    "  display: block;\n",
    "  margin-left: auto;\n",
    "  margin-right: auto;\n",
    "  width: 20%;\n",
    "}\n",
    "    \n",
    "```"
   ]
  },
  {
   "cell_type": "markdown",
   "id": "3a625a2d",
   "metadata": {
    "slideshow": {
     "slide_type": "slide"
    }
   },
   "source": [
    "### <center> JS\n",
    "```javascript\n",
    "let pElem = document.querySelector('p');\n",
    "pElem.textContent =  '¡VAMOS CIVILES!';\n",
    "```"
   ]
  },
  {
   "cell_type": "markdown",
   "id": "438a5c7c",
   "metadata": {
    "slideshow": {
     "slide_type": "slide"
    }
   },
   "source": [
    "<center><img src=\"img/html_css_js/10_editores.jpg\" width=\"1200\" height=\"500\" align=\"middle\" alt=\"wil_joke\"/>"
   ]
  },
  {
   "cell_type": "markdown",
   "id": "9fb5f3e3",
   "metadata": {
    "slideshow": {
     "slide_type": "slide"
    }
   },
   "source": [
    "<center><img src=\"img/html_css_js/11.png\" width=\"1200\" height=\"500\" align=\"middle\" alt=\"wil_joke\"/>"
   ]
  },
  {
   "cell_type": "markdown",
   "id": "cfd5b5a2",
   "metadata": {
    "slideshow": {
     "slide_type": "slide"
    }
   },
   "source": [
    "<center><img src=\"img/html_css_js/12.png\" width=\"1200\" height=\"500\" align=\"middle\" alt=\"wil_joke\"/>"
   ]
  },
  {
   "cell_type": "markdown",
   "id": "14e3d492",
   "metadata": {
    "slideshow": {
     "slide_type": "slide"
    }
   },
   "source": [
    "<center><img src=\"img/html_css_js/13.png\" width=\"1000\" height=\"500\" align=\"middle\" alt=\"wil_joke\"/>"
   ]
  },
  {
   "cell_type": "markdown",
   "id": "6ceca65a",
   "metadata": {
    "slideshow": {
     "slide_type": "slide"
    }
   },
   "source": [
    "<center><img src=\"img/html_css_js/14.png\" width=\"1000\" height=\"500\" align=\"middle\" alt=\"wil_joke\"/>"
   ]
  },
  {
   "cell_type": "markdown",
   "id": "3db20134",
   "metadata": {
    "slideshow": {
     "slide_type": "slide"
    }
   },
   "source": [
    "<center><img src=\"img/html_css_js/15.png\" width=\"1000\" height=\"500\" align=\"middle\" alt=\"wil_joke\"/>"
   ]
  },
  {
   "cell_type": "markdown",
   "id": "0ee6df33",
   "metadata": {
    "slideshow": {
     "slide_type": "slide"
    }
   },
   "source": [
    "<center><img src=\"img/html_css_js/16.png\" width=\"1000\" height=\"500\" align=\"middle\" alt=\"wil_joke\"/>"
   ]
  },
  {
   "cell_type": "markdown",
   "id": "19c544aa",
   "metadata": {
    "slideshow": {
     "slide_type": "slide"
    }
   },
   "source": [
    "<center><img src=\"img/html_css_js/17.jpg\" width=\"800\" height=\"500\" align=\"middle\" alt=\"wil_joke\"/>"
   ]
  },
  {
   "cell_type": "markdown",
   "id": "27dd0ac8",
   "metadata": {
    "slideshow": {
     "slide_type": "slide"
    }
   },
   "source": [
    "<center><img src=\"img/html_css_js/18.png\" width=\"800\" height=\"500\" align=\"middle\" alt=\"wil_joke\"/>"
   ]
  },
  {
   "cell_type": "markdown",
   "id": "7d260e6b",
   "metadata": {
    "slideshow": {
     "slide_type": "slide"
    }
   },
   "source": [
    "<center><img src=\"img/html_css_js/19.jpg\" width=\"800\" height=\"500\" align=\"middle\" alt=\"wil_joke\"/>"
   ]
  },
  {
   "cell_type": "markdown",
   "id": "d4621b1b",
   "metadata": {
    "slideshow": {
     "slide_type": "slide"
    }
   },
   "source": [
    "<center><img src=\"img/html_css_js/19_1.jpg\" width=\"900\" height=\"500\" align=\"middle\" alt=\"wil_joke\"/>"
   ]
  },
  {
   "cell_type": "markdown",
   "id": "402ebad8",
   "metadata": {
    "slideshow": {
     "slide_type": "slide"
    }
   },
   "source": [
    "<center><img src=\"img/html_css_js/19_2.png\" width=\"900\" height=\"500\" align=\"middle\" alt=\"wil_joke\"/>"
   ]
  },
  {
   "cell_type": "markdown",
   "id": "ee6d2462",
   "metadata": {
    "slideshow": {
     "slide_type": "slide"
    }
   },
   "source": [
    "### <center> ¿PORQUÉ PYTHON?\n",
    "- Explícito es mejor que implícito.\n",
    "- Simple es mejor que complejo.\n",
    "- Complejo es mejor que complicado.\n",
    "- Si la implementación es difícil de explicar, es una mala idea.\n",
    "- Si la implementación es fácil de explicar, podría ser buena idea."
   ]
  },
  {
   "cell_type": "markdown",
   "id": "e1d1d3c2",
   "metadata": {
    "slideshow": {
     "slide_type": "slide"
    }
   },
   "source": [
    "<center><img src=\"img/html_css_js/19_3.jpeg\" width=\"900\" height=\"500\" align=\"middle\" alt=\"wil_joke\"/>"
   ]
  },
  {
   "cell_type": "code",
   "execution_count": 1,
   "id": "6fc8f98e",
   "metadata": {
    "slideshow": {
     "slide_type": "slide"
    }
   },
   "outputs": [
    {
     "name": "stdout",
     "output_type": "stream",
     "text": [
      "Primer lado (m): 5\n",
      "Segundo lado (m): 5.5\n",
      "Tercer lado (m): 8\n",
      "El area del triangulo es:  13.57 m\n"
     ]
    }
   ],
   "source": [
    "### Área del triangulo\n",
    "\n",
    "a = float(input('Primer lado (m): '))\n",
    "b = float(input('Segundo lado (m): '))\n",
    "c = float(input('Tercer lado (m): '))\n",
    "\n",
    "### calculo del semiperímetro\n",
    "s = (a + b + c) / 2\n",
    "### calculamos el área del triangulo\n",
    "area = (s*(s-a)*(s-b)*(s-c)) ** 0.5\n",
    "\n",
    "print('El area del triangulo es: ', round(area, 2), 'm')"
   ]
  },
  {
   "cell_type": "markdown",
   "id": "86509a07",
   "metadata": {
    "slideshow": {
     "slide_type": "slide"
    }
   },
   "source": [
    "### <center> ¿PORQUÉ Django?\n",
    "<center><img src=\"img/html_css_js/20.png\" width=\"800\" height=\"500\" align=\"middle\" alt=\"wil_joke\"/>"
   ]
  },
  {
   "cell_type": "markdown",
   "id": "bdca7c73",
   "metadata": {
    "slideshow": {
     "slide_type": "slide"
    }
   },
   "source": [
    "<center><img src=\"img/tesis/1.png\" width=\"1200\" height=\"500\" align=\"middle\" alt=\"wil_joke\"/>"
   ]
  },
  {
   "cell_type": "markdown",
   "id": "38b52548",
   "metadata": {
    "slideshow": {
     "slide_type": "slide"
    }
   },
   "source": [
    "<center><img src=\"img/tesis/1_1.png\" width=\"800\" height=\"500\" align=\"middle\" alt=\"wil_joke\"/>"
   ]
  },
  {
   "cell_type": "markdown",
   "id": "939f5588",
   "metadata": {
    "slideshow": {
     "slide_type": "slide"
    }
   },
   "source": [
    "<center><img src=\"img/tesis/1_2.png\" width=\"800\" height=\"500\" align=\"middle\" alt=\"wil_joke\"/>"
   ]
  },
  {
   "cell_type": "markdown",
   "id": "5105c631",
   "metadata": {
    "slideshow": {
     "slide_type": "slide"
    }
   },
   "source": [
    "<center><img src=\"img/tesis/1_3.png\" width=\"600\" height=\"500\" align=\"middle\" alt=\"wil_joke\"/>"
   ]
  },
  {
   "cell_type": "markdown",
   "id": "76bf1f53",
   "metadata": {
    "slideshow": {
     "slide_type": "slide"
    }
   },
   "source": [
    "<center><img src=\"img/tesis/2.png\" width=\"1200\" height=\"500\" align=\"middle\" alt=\"wil_joke\"/>"
   ]
  },
  {
   "cell_type": "markdown",
   "id": "6bbbb3a2",
   "metadata": {
    "slideshow": {
     "slide_type": "slide"
    }
   },
   "source": [
    "## Gestión del Laboratorio\n",
    "\n",
    "### Caracterización del Proceso de \n",
    "\n",
    "- Sector Académico de la EPIC\n",
    "- Sector Tesistas de la EPIC\n",
    "- Sector Servicios a Terceros de la EPIC\n",
    "\n",
    "### Mapa de Procesos\n",
    "- Sector Académico de la EPIC\n",
    "- Sector Tesista de la EPIC\n",
    "- Sector Servicios a terceros de la EPIC"
   ]
  },
  {
   "cell_type": "markdown",
   "id": "e2e91cc6",
   "metadata": {
    "slideshow": {
     "slide_type": "slide"
    }
   },
   "source": [
    "<center><img src=\"img/tesis/3.png\" width=\"1150\" height=\"500\" align=\"middle\" alt=\"wil_joke\"/>"
   ]
  },
  {
   "cell_type": "markdown",
   "id": "4f30605d",
   "metadata": {
    "slideshow": {
     "slide_type": "slide"
    }
   },
   "source": [
    "<center><img src=\"img/tesis/4.png\" width=\"1250\" height=\"500\" align=\"middle\" alt=\"wil_joke\"/>"
   ]
  },
  {
   "cell_type": "markdown",
   "id": "7d159dec",
   "metadata": {},
   "source": [
    "<center><img src=\"img/tesis/5.png\" width=\"500\" height=\"500\" align=\"middle\" alt=\"wil_joke\"/>"
   ]
  },
  {
   "cell_type": "markdown",
   "id": "37072563",
   "metadata": {
    "slideshow": {
     "slide_type": "slide"
    }
   },
   "source": [
    "<center><img src=\"img/tesis/6.png\" width=\"500\" height=\"500\" align=\"middle\" alt=\"wil_joke\"/>"
   ]
  },
  {
   "cell_type": "markdown",
   "id": "982b2dd7",
   "metadata": {
    "slideshow": {
     "slide_type": "slide"
    }
   },
   "source": [
    "<center><img src=\"img/tesis/7.jpg\" width=\"1100\" height=\"500\" align=\"middle\" alt=\"wil_joke\"/>"
   ]
  },
  {
   "cell_type": "markdown",
   "id": "14b9b077",
   "metadata": {
    "slideshow": {
     "slide_type": "slide"
    }
   },
   "source": [
    "```python\n",
    "class DiamondPiceBreak(models.Model):\n",
    "    user            = models.ForeignKey(User, on_delete=models.CASCADE)\n",
    "    name            = models.CharField(max_length=50, default=\"Compresión Testigo Diamantinos\")\n",
    "    code            = models.CharField(max_length=255, unique=True, editable=False)\n",
    "    fc_esp          = models.FloatField(default=280)\n",
    "    sampling_date   = models.DateField(null=True, blank=True)\n",
    "    created         = models.DateTimeField(auto_now_add=True)\n",
    "    updated         = models.DateTimeField(auto_now=True)\n",
    "    equipment           = models.ManyToManyField(Equip)\n",
    "    tool                = models.ManyToManyField(Tool)    \n",
    "    course              = models.ForeignKey(Course, on_delete=models.SET_NULL, null=True, blank=True)\n",
    "    reference_person    = models.ForeignKey(ReferencePerson, on_delete=models.SET_NULL, null=True, blank=True)\n",
    "    construction        = models.ForeignKey(Construction, on_delete=models.SET_NULL, null=True, blank=True)\n",
    "```"
   ]
  },
  {
   "cell_type": "markdown",
   "id": "aa0268d5",
   "metadata": {
    "slideshow": {
     "slide_type": "slide"
    }
   },
   "source": [
    "```python\n",
    "class DiamondPice(models.Model):\n",
    "    extraction_date = models.DateField()\n",
    "    break_date      = models.DateField()\n",
    "    dilate          = models.IntegerField(editable=False)\n",
    "    element_name    = models.CharField(max_length=100, null=True, blank=True)\n",
    "    D               = models.FloatField()\n",
    "    L               = models.FloatField()\n",
    "    check_per       = models.BooleanField()\n",
    "    factor_ld       = models.FloatField(editable=False)\n",
    "    area            = models.FloatField(editable=False)\n",
    "    correction      = models.FloatField(editable=False)\n",
    "    load            = models.FloatField()\n",
    "    fc              = models.FloatField(editable=False)\n",
    "    fc_MPa          = models.FloatField(editable=False)\n",
    "    created         = models.DateTimeField(auto_now_add=True)\n",
    "    updated         = models.DateTimeField(auto_now=True)\n",
    "    diamond_pice_break      = models.ForeignKey(DiamondPiceBreak, on_delete=models.CASCADE)\n",
    "    equipment               = models.ManyToManyField(Equip)\n",
    "    tool                    = models.ManyToManyField(Tool)\n",
    "```"
   ]
  },
  {
   "cell_type": "markdown",
   "id": "d2fec155",
   "metadata": {
    "slideshow": {
     "slide_type": "slide"
    }
   },
   "source": [
    "```python\n",
    "    def save(self, *args, **kwargs):\n",
    "        # Generate the dilate from the extraction_date\n",
    "        diff = self.break_date - self.extraction_date\n",
    "        self.dilate = diff.days\n",
    "\n",
    "        # Generate the factor_ld\n",
    "        factor = self.L / self.D\n",
    "        self.factor_ld = round(factor, 2) \n",
    "\n",
    "        # Generate the area\n",
    "        d_mm = self.D\n",
    "        area_mm2 = ((d_mm**2)*math.pi)/4\n",
    "        self.area = (area_mm2*4)/4\n",
    "        \n",
    "        # Generate the correction factor\n",
    "        x_ld = [1, 1.25, 1.50, 1.75]\n",
    "        y_correction = [0.87, 0.93, 0.96, 0.98]\n",
    "        correc = np.interp(self.factor_ld, x_ld, y_correction)\n",
    "        self.correction = round(correc, 2)\n",
    "\n",
    "        # Generate the fc\n",
    "        effort_fc = ( self.load / (self.area/100) ) * self.correction\n",
    "        self.fc = round(effort_fc, 2)\n",
    "\n",
    "        # Generate fc_MPa\n",
    "        effort_fc_MPa = self.fc*0.0981 \n",
    "        self.fc_MPa = round(effort_fc_MPa, 2)\n",
    "```"
   ]
  },
  {
   "cell_type": "markdown",
   "id": "52ed0974",
   "metadata": {
    "slideshow": {
     "slide_type": "slide"
    }
   },
   "source": [
    "<center><img src=\"img/tesis/8.jpg\" width=\"1250\" height=\"500\" align=\"middle\" alt=\"wil_joke\"/> "
   ]
  },
  {
   "cell_type": "markdown",
   "id": "46a53ba2",
   "metadata": {
    "slideshow": {
     "slide_type": "slide"
    }
   },
   "source": [
    "<center><img src=\"img/tesis/9.png\" width=\"1250\" height=\"500\" align=\"middle\" alt=\"wil_joke\"/> "
   ]
  },
  {
   "cell_type": "code",
   "execution_count": null,
   "id": "0024dcc3",
   "metadata": {},
   "outputs": [],
   "source": []
  }
 ],
 "metadata": {
  "celltoolbar": "Slideshow",
  "kernelspec": {
   "display_name": "Python 3",
   "language": "python",
   "name": "python3"
  },
  "language_info": {
   "codemirror_mode": {
    "name": "ipython",
    "version": 3
   },
   "file_extension": ".py",
   "mimetype": "text/x-python",
   "name": "python",
   "nbconvert_exporter": "python",
   "pygments_lexer": "ipython3",
   "version": "3.8.8"
  }
 },
 "nbformat": 4,
 "nbformat_minor": 5
}
