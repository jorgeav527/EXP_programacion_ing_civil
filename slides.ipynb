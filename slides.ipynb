{
 "cells": [
  {
   "cell_type": "markdown",
   "id": "77c3aeed",
   "metadata": {
    "slideshow": {
     "slide_type": "slide"
    }
   },
   "source": [
    "<center><img src=\"img/intro/01.png\" width=\"1250\" height=\"700\" align=\"middle\" alt=\"abstraction\"/>"
   ]
  },
  {
   "cell_type": "markdown",
   "id": "aabcb78e",
   "metadata": {
    "slideshow": {
     "slide_type": "slide"
    }
   },
   "source": [
    "<center><img src=\"img/intro/02.png\" width=\"1250\" height=\"700\" align=\"middle\" alt=\"wli\"/>"
   ]
  },
  {
   "cell_type": "markdown",
   "id": "4b63c789",
   "metadata": {
    "slideshow": {
     "slide_type": "slide"
    }
   },
   "source": [
    "<center><img src=\"img/intro/03.jpg\" width=\"700\" height=\"500\" align=\"middle\" alt=\"nav\"/>"
   ]
  },
  {
   "cell_type": "markdown",
   "id": "4bf789ac",
   "metadata": {
    "slideshow": {
     "slide_type": "slide"
    }
   },
   "source": [
    "<center><img src=\"img/intro/04.png\" width=\"1000\" height=\"700\" align=\"middle\" alt=\"backend_vs_frontend\"/>"
   ]
  },
  {
   "cell_type": "markdown",
   "id": "68346660",
   "metadata": {
    "slideshow": {
     "slide_type": "slide"
    }
   },
   "source": [
    "<center><img src=\"img/intro/05.png\" width=\"700\" height=\"500\" align=\"middle\" alt=\"lenguajes\"/>"
   ]
  },
  {
   "cell_type": "markdown",
   "id": "aeb39116",
   "metadata": {
    "slideshow": {
     "slide_type": "slide"
    }
   },
   "source": [
    "<center><img src=\"img/intro/06.jpg\" width=\"800\" height=\"700\" align=\"middle\" alt=\"jupyter\"/>"
   ]
  },
  {
   "cell_type": "markdown",
   "id": "3d3f7c1f",
   "metadata": {
    "slideshow": {
     "slide_type": "slide"
    }
   },
   "source": [
    "<center><img src=\"img/intro/07.png\" width=\"800\" height=\"500\" align=\"middle\" alt=\"wil_joke\"/>"
   ]
  },
  {
   "cell_type": "markdown",
   "id": "5af2c852",
   "metadata": {
    "slideshow": {
     "slide_type": "slide"
    }
   },
   "source": [
    "<center><img src=\"img/intro/08.png\" width=\"800\" height=\"500\" align=\"middle\" alt=\"wil_joke\"/>"
   ]
  },
  {
   "cell_type": "markdown",
   "id": "4d3cddf9",
   "metadata": {
    "slideshow": {
     "slide_type": "slide"
    }
   },
   "source": [
    "<center><img src=\"img/intro/08_01.png\" width=\"800\" height=\"500\" align=\"middle\" alt=\"wil_joke\"/>\n",
    "08_01.png"
   ]
  },
  {
   "cell_type": "markdown",
   "id": "12418686",
   "metadata": {
    "slideshow": {
     "slide_type": "slide"
    }
   },
   "source": [
    "<center><img src=\"img/intro/09.png\" width=\"800\" height=\"500\" align=\"middle\" alt=\"wil_joke\"/>"
   ]
  },
  {
   "cell_type": "markdown",
   "id": "8fd88005",
   "metadata": {
    "slideshow": {
     "slide_type": "slide"
    }
   },
   "source": [
    "## <center> **Sistemas Operativos**\n",
    "<center><img src=\"img/SO/01_02.png\" width=\"800\" height=\"500\" align=\"middle\" alt=\"wil_joke\"/>"
   ]
  },
  {
   "cell_type": "markdown",
   "id": "d9eddf9c",
   "metadata": {
    "slideshow": {
     "slide_type": "slide"
    }
   },
   "source": [
    "<center><img src=\"img/SO/03.png\" width=\"400\" height=\"500\" align=\"middle\" alt=\"wil_joke\"/>"
   ]
  },
  {
   "cell_type": "markdown",
   "id": "9783c21a",
   "metadata": {
    "slideshow": {
     "slide_type": "slide"
    }
   },
   "source": [
    "<center><img src=\"img/SO/04.jpg\" width=\"400\" height=\"500\" align=\"middle\" alt=\"wil_joke\"/>"
   ]
  },
  {
   "cell_type": "markdown",
   "id": "71ec751b",
   "metadata": {
    "slideshow": {
     "slide_type": "slide"
    }
   },
   "source": [
    "<center><img src=\"img/SO/05.png\" width=\"400\" height=\"500\" align=\"middle\" alt=\"wil_joke\"/>"
   ]
  },
  {
   "cell_type": "markdown",
   "id": "28d08923",
   "metadata": {
    "slideshow": {
     "slide_type": "slide"
    }
   },
   "source": [
    "<center><img src=\"img/SO/06.jpg\" width=\"400\" height=\"500\" align=\"middle\" alt=\"wil_joke\"/>"
   ]
  },
  {
   "cell_type": "markdown",
   "id": "ce793a90",
   "metadata": {
    "slideshow": {
     "slide_type": "slide"
    }
   },
   "source": [
    "<center><img src=\"img/SO/07.png\" width=\"400\" height=\"500\" align=\"middle\" alt=\"wil_joke\"/>"
   ]
  },
  {
   "cell_type": "markdown",
   "id": "fa6c0f19",
   "metadata": {
    "slideshow": {
     "slide_type": "slide"
    }
   },
   "source": [
    "<center><img src=\"img/terminal/terminal.png\" width=\"400\" height=\"500\" align=\"middle\" alt=\"wil_joke\"/>"
   ]
  },
  {
   "cell_type": "markdown",
   "id": "f0fcd5ac",
   "metadata": {
    "slideshow": {
     "slide_type": "slide"
    }
   },
   "source": [
    "### ¿Cuáles son los comandos básicos de Linux?\n",
    "- pwd **imprime la ubicación de tu directorio de trabajo actual.**\n",
    "- ls **imprimir el contenido de un directorio**\n",
    "- cd **cambiar al directorio**\n",
    "- cat **imprimir el contenido de un archivo**\n",
    "- cp **copiar archivos y directorios**\n",
    "- mv **mover o renombrar directorios y archivos**\n",
    "- mkdir **crear un nuevo directorio**\n",
    "- rmdir **eliminar un directorio**\n",
    "- touch **crear un nuevo archivo**\n",
    "- rm -rf **eliminar permanentemente**\n",
    "- clear **eliminar permanentemente**"
   ]
  },
  {
   "cell_type": "markdown",
   "id": "b19761d3",
   "metadata": {
    "slideshow": {
     "slide_type": "slide"
    }
   },
   "source": [
    "## <center> **¿Como funciona el internet?**\n",
    "<center><img src=\"img/html_css_js/01.jpg\" width=\"400\" height=\"500\" align=\"middle\" alt=\"wil_joke\"/>"
   ]
  },
  {
   "cell_type": "markdown",
   "id": "a17da96b",
   "metadata": {
    "slideshow": {
     "slide_type": "slide"
    }
   },
   "source": [
    "<center><img src=\"img/html_css_js/01_1.png\" width=\"400\" height=\"500\" align=\"middle\" alt=\"wil_joke\"/>"
   ]
  },
  {
   "cell_type": "markdown",
   "id": "824bfe91",
   "metadata": {
    "slideshow": {
     "slide_type": "slide"
    }
   },
   "source": [
    "<center><img src=\"img/html_css_js/02.jpg\" width=\"400\" height=\"500\" align=\"middle\" alt=\"wil_joke\"/>"
   ]
  },
  {
   "cell_type": "markdown",
   "id": "388d3a72",
   "metadata": {
    "slideshow": {
     "slide_type": "slide"
    }
   },
   "source": [
    "<center><img src=\"img/html_css_js/02_1.png\" width=\"400\" height=\"500\" align=\"middle\" alt=\"wil_joke\"/>"
   ]
  },
  {
   "cell_type": "markdown",
   "id": "a0dfefa3",
   "metadata": {
    "slideshow": {
     "slide_type": "slide"
    }
   },
   "source": [
    "<center><img src=\"img/html_css_js/03.jpg\" width=\"400\" height=\"500\" align=\"middle\" alt=\"wil_joke\"/>"
   ]
  },
  {
   "cell_type": "markdown",
   "id": "78e9f23b",
   "metadata": {
    "slideshow": {
     "slide_type": "slide"
    }
   },
   "source": [
    "<center><img src=\"img/html_css_js/06.png\" width=\"400\" height=\"500\" align=\"middle\" alt=\"wil_joke\"/>"
   ]
  },
  {
   "cell_type": "markdown",
   "id": "6a85b150",
   "metadata": {
    "slideshow": {
     "slide_type": "slide"
    }
   },
   "source": [
    "<center><img src=\"img/html_css_js/07.jpg\" width=\"400\" height=\"500\" align=\"middle\" alt=\"wil_joke\"/>"
   ]
  },
  {
   "cell_type": "markdown",
   "id": "b8936f75",
   "metadata": {
    "slideshow": {
     "slide_type": "slide"
    }
   },
   "source": [
    "<center><img src=\"img/html_css_js/02_2.jpg\" width=\"400\" height=\"500\" align=\"middle\" alt=\"wil_joke\"/>"
   ]
  },
  {
   "cell_type": "markdown",
   "id": "3d9d6ebc",
   "metadata": {},
   "source": [
    "<center><img src=\"img/html_css_js/09.jpg\" width=\"400\" height=\"500\" align=\"middle\" alt=\"wil_joke\"/>"
   ]
  },
  {
   "cell_type": "markdown",
   "id": "4e593c8f",
   "metadata": {
    "slideshow": {
     "slide_type": "slide"
    }
   },
   "source": [
    ">> \"Hola servidor web. ¿Me puedes dar los archivos que necesito para renderizar https://www.ucsm.edu.pe/\"? Para ver mis notas!!!\n",
    ">\n",
    ">> \"Seguro navegador web — aquí los tienes\"\n",
    ">\n",
    ">> (https://www.ucsm.edu.pe/)[UCSM]"
   ]
  },
  {
   "cell_type": "markdown",
   "id": "99dd03ee",
   "metadata": {
    "slideshow": {
     "slide_type": "slide"
    }
   },
   "source": [
    "### <center> HTML\n",
    "```html\n",
    "<!DOCTYPE html>\n",
    "<!DOCTYPE html>\n",
    "<html lang=\"en\">\n",
    "    <head>\n",
    "        <meta charset=\"UTF-8\">\n",
    "        <meta http-equiv=\"X-UA-Compatible\" content=\"IE=edge\">\n",
    "        <meta name=\"viewport\" content=\"width=device-width, initial-scale=1.0\">\n",
    "        <title>Documento</title>\n",
    "        <link rel=\"stylesheet\" href=\"index_estilo.css\">\n",
    "    </head>\n",
    "    <body>\n",
    "        <header>\n",
    "            <h1>UCSM-II CIDEIC</h1>\n",
    "            <h2>Programación en la Ing. Civil</h2>\n",
    "            <h3>UCSM-2021</h3>\n",
    "            <h4>Contenido</h4>\n",
    "        </header>\n",
    "        <main>\n",
    "            <ol>\n",
    "                <li>Introducción</li>\n",
    "                <li>Terminal && Text Editors</li>\n",
    "                <li>Frontend && Backend</li>\n",
    "                <li>JavaScript && Python</li>\n",
    "                <li>Git && GitHub</li>\n",
    "                <li>Jupyter Notebook && Libraries</li>\n",
    "            </ol>\n",
    "        </main>\n",
    "        <section>\n",
    "            <h4>Ensayos</h4>\n",
    "            <ul>\n",
    "                <li>Rotura de Probetas</li>\n",
    "                <li>Granulometria</li>\n",
    "                <li>Ejemplos Extras</li>\n",
    "            </ul>\n",
    "        </section>\n",
    "        <footer>\n",
    "            <p>Ing. Jorge Ramiro Alarcón Vargas</p>\n",
    "            <img src=\"gatito.jpeg\" alt=\"img\">\n",
    "            <a href=\"http://wwww.google.com\"><img src=\"gatito.jpeg\" alt=\"img\"></a>\n",
    "        </footer>\n",
    "        <script src=\"main.js\"></script>\n",
    "    </body>\n",
    "</html>\n",
    "    \n",
    "```"
   ]
  },
  {
   "cell_type": "markdown",
   "id": "4198fef7",
   "metadata": {
    "slideshow": {
     "slide_type": "slide"
    }
   },
   "source": [
    "### <center> CSS\n",
    "```css\n",
    "body {\n",
    "  background-color: peru;\n",
    "}\n",
    "\n",
    "h1, h2, h3, h4 {\n",
    "  color: brown;\n",
    "}\n",
    "\n",
    "p {\n",
    "  text-align: center;\n",
    "  font-size: 1cm;\n",
    "  color: blue;\n",
    "}\n",
    "\n",
    "ol {\n",
    "  list-style-type: upper-roman;\n",
    "}\n",
    "    \n",
    "img {\n",
    "  display: block;\n",
    "  margin-left: auto;\n",
    "  margin-right: auto;\n",
    "  width: 20%;\n",
    "}\n",
    "    \n",
    "```"
   ]
  },
  {
   "cell_type": "markdown",
   "id": "3a625a2d",
   "metadata": {
    "slideshow": {
     "slide_type": "slide"
    }
   },
   "source": [
    "### <center> JS\n",
    "```javascript\n",
    "let pElem = document.querySelector('p');\n",
    "pElem.textContent =  '¡VAMOS CIVILES!';\n",
    "```"
   ]
  },
  {
   "cell_type": "markdown",
   "id": "438a5c7c",
   "metadata": {
    "slideshow": {
     "slide_type": "slide"
    }
   },
   "source": [
    "<center><img src=\"img/html_css_js/10_editores.jpg\" width=\"400\" height=\"500\" align=\"middle\" alt=\"wil_joke\"/>"
   ]
  },
  {
   "cell_type": "markdown",
   "id": "9fb5f3e3",
   "metadata": {
    "slideshow": {
     "slide_type": "slide"
    }
   },
   "source": [
    "<center><img src=\"img/html_css_js/11.png\" width=\"400\" height=\"500\" align=\"middle\" alt=\"wil_joke\"/>"
   ]
  },
  {
   "cell_type": "markdown",
   "id": "cfd5b5a2",
   "metadata": {
    "slideshow": {
     "slide_type": "slide"
    }
   },
   "source": [
    "<center><img src=\"img/html_css_js/12.png\" width=\"400\" height=\"500\" align=\"middle\" alt=\"wil_joke\"/>"
   ]
  },
  {
   "cell_type": "markdown",
   "id": "14e3d492",
   "metadata": {
    "slideshow": {
     "slide_type": "slide"
    }
   },
   "source": [
    "<center><img src=\"img/html_css_js/13.png\" width=\"400\" height=\"500\" align=\"middle\" alt=\"wil_joke\"/>"
   ]
  },
  {
   "cell_type": "markdown",
   "id": "6ceca65a",
   "metadata": {
    "slideshow": {
     "slide_type": "slide"
    }
   },
   "source": [
    "<center><img src=\"img/html_css_js/14.png\" width=\"400\" height=\"500\" align=\"middle\" alt=\"wil_joke\"/>"
   ]
  },
  {
   "cell_type": "markdown",
   "id": "3db20134",
   "metadata": {
    "slideshow": {
     "slide_type": "slide"
    }
   },
   "source": [
    "<center><img src=\"img/html_css_js/15.png\" width=\"400\" height=\"500\" align=\"middle\" alt=\"wil_joke\"/>"
   ]
  },
  {
   "cell_type": "markdown",
   "id": "0ee6df33",
   "metadata": {
    "slideshow": {
     "slide_type": "slide"
    }
   },
   "source": [
    "<center><img src=\"img/html_css_js/16.png\" width=\"400\" height=\"500\" align=\"middle\" alt=\"wil_joke\"/>"
   ]
  },
  {
   "cell_type": "markdown",
   "id": "19c544aa",
   "metadata": {
    "slideshow": {
     "slide_type": "slide"
    }
   },
   "source": [
    "<center><img src=\"img/html_css_js/17.jpg\" width=\"400\" height=\"500\" align=\"middle\" alt=\"wil_joke\"/>"
   ]
  },
  {
   "cell_type": "markdown",
   "id": "27dd0ac8",
   "metadata": {
    "slideshow": {
     "slide_type": "slide"
    }
   },
   "source": [
    "<center><img src=\"img/html_css_js/18.png\" width=\"400\" height=\"500\" align=\"middle\" alt=\"wil_joke\"/>"
   ]
  },
  {
   "cell_type": "markdown",
   "id": "7d260e6b",
   "metadata": {
    "slideshow": {
     "slide_type": "slide"
    }
   },
   "source": [
    "<center><img src=\"img/html_css_js/19.jpg\" width=\"400\" height=\"500\" align=\"middle\" alt=\"wil_joke\"/>"
   ]
  },
  {
   "cell_type": "markdown",
   "id": "ee6d2462",
   "metadata": {
    "slideshow": {
     "slide_type": "slide"
    }
   },
   "source": [
    "### <center> ¿PORQUÉ PYTHON?\n",
    "- Explícito es mejor que implícito.\n",
    "- Simple es mejor que complejo.\n",
    "- Complejo es mejor que complicado.\n",
    "- Si la implementación es difícil de explicar, es una mala idea.\n",
    "- Si la implementación es fácil de explicar, podría ser buena idea."
   ]
  },
  {
   "cell_type": "code",
   "execution_count": 2,
   "id": "6fc8f98e",
   "metadata": {
    "slideshow": {
     "slide_type": "slide"
    }
   },
   "outputs": [
    {
     "name": "stdout",
     "output_type": "stream",
     "text": [
      "Primer lado (m): 5\n",
      "Segundo lado (m): 6\n",
      "Tercer lado (m): 7\n",
      "El area del triangulo es:  14.7 m\n"
     ]
    }
   ],
   "source": [
    "### Área del triangulo\n",
    "\n",
    "a = float(input('Primer lado (m): '))\n",
    "b = float(input('Segundo lado (m): '))\n",
    "c = float(input('Tercer lado (m): '))\n",
    "\n",
    "### calculo del semiperímetro\n",
    "s = (a + b + c) / 2\n",
    "### ca\n",
    "area = (s*(s-a)*(s-b)*(s-c)) ** 0.5\n",
    "\n",
    "print('El area del triangulo es: ', round(area, 2), 'm')"
   ]
  },
  {
   "cell_type": "markdown",
   "id": "86509a07",
   "metadata": {
    "slideshow": {
     "slide_type": "slide"
    }
   },
   "source": [
    "### <center> ¿PORQUÉ Django?\n",
    "<center><img src=\"img/html_css_js/20.png\" width=\"400\" height=\"500\" align=\"middle\" alt=\"wil_joke\"/>"
   ]
  },
  {
   "cell_type": "markdown",
   "id": "bdca7c73",
   "metadata": {
    "slideshow": {
     "slide_type": "slide"
    }
   },
   "source": [
    "<center><img src=\"img/html_css_js/21.png\" width=\"400\" height=\"500\" align=\"middle\" alt=\"wil_joke\"/>"
   ]
  },
  {
   "cell_type": "markdown",
   "id": "76bf1f53",
   "metadata": {},
   "source": [
    "ejemplo de python"
   ]
  },
  {
   "cell_type": "raw",
   "id": "23e65658",
   "metadata": {},
   "source": [
    "librerias"
   ]
  },
  {
   "cell_type": "markdown",
   "id": "e2e91cc6",
   "metadata": {},
   "source": [
    "porq django"
   ]
  },
  {
   "cell_type": "markdown",
   "id": "4f30605d",
   "metadata": {},
   "source": [
    "pagina epick labs"
   ]
  },
  {
   "cell_type": "markdown",
   "id": "37072563",
   "metadata": {},
   "source": [
    "caracterizacion"
   ]
  },
  {
   "cell_type": "markdown",
   "id": "63ffa281",
   "metadata": {},
   "source": [
    "flujograms"
   ]
  },
  {
   "cell_type": "markdown",
   "id": "982b2dd7",
   "metadata": {},
   "source": [
    "ntp"
   ]
  },
  {
   "cell_type": "markdown",
   "id": "52ed0974",
   "metadata": {},
   "source": [
    "tabla usurarios "
   ]
  },
  {
   "cell_type": "markdown",
   "id": "46a53ba2",
   "metadata": {},
   "source": [
    "tabla diamantinos"
   ]
  },
  {
   "cell_type": "markdown",
   "id": "9d960f65",
   "metadata": {},
   "source": [
    "tala de ladrillos"
   ]
  },
  {
   "cell_type": "markdown",
   "id": "35a9425b",
   "metadata": {},
   "source": [
    "tabla de granulometria"
   ]
  },
  {
   "cell_type": "markdown",
   "id": "53eb0a54",
   "metadata": {},
   "source": [
    "ejemplo de diamantinos"
   ]
  },
  {
   "cell_type": "markdown",
   "id": "6bfd953a",
   "metadata": {},
   "source": [
    "donde aprender todo"
   ]
  },
  {
   "cell_type": "markdown",
   "id": "0c8301e8",
   "metadata": {},
   "source": [
    "gracias"
   ]
  }
 ],
 "metadata": {
  "celltoolbar": "Slideshow",
  "kernelspec": {
   "display_name": "Python 3",
   "language": "python",
   "name": "python3"
  },
  "language_info": {
   "codemirror_mode": {
    "name": "ipython",
    "version": 3
   },
   "file_extension": ".py",
   "mimetype": "text/x-python",
   "name": "python",
   "nbconvert_exporter": "python",
   "pygments_lexer": "ipython3",
   "version": "3.8.8"
  }
 },
 "nbformat": 4,
 "nbformat_minor": 5
}
