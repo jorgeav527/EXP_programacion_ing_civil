{
 "cells": [
  {
   "cell_type": "markdown",
   "id": "77c3aeed",
   "metadata": {
    "slideshow": {
     "slide_type": "slide"
    }
   },
   "source": [
    "<center><img src=\"img/intro/01.png\" width=\"1250\" height=\"700\" align=\"middle\" alt=\"abstraction\"/>"
   ]
  },
  {
   "cell_type": "markdown",
   "id": "aabcb78e",
   "metadata": {
    "slideshow": {
     "slide_type": "slide"
    }
   },
   "source": [
    "<center><img src=\"img/intro/02.png\" width=\"1250\" height=\"700\" align=\"middle\" alt=\"wli\"/>"
   ]
  },
  {
   "cell_type": "markdown",
   "id": "4b63c789",
   "metadata": {
    "slideshow": {
     "slide_type": "slide"
    }
   },
   "source": [
    "<center><img src=\"img/intro/03.jpg\" width=\"700\" height=\"500\" align=\"middle\" alt=\"nav\"/>"
   ]
  },
  {
   "cell_type": "markdown",
   "id": "4bf789ac",
   "metadata": {
    "slideshow": {
     "slide_type": "slide"
    }
   },
   "source": [
    "<center><img src=\"img/intro/04.png\" width=\"1000\" height=\"700\" align=\"middle\" alt=\"backend_vs_frontend\"/>"
   ]
  },
  {
   "cell_type": "markdown",
   "id": "68346660",
   "metadata": {
    "slideshow": {
     "slide_type": "slide"
    }
   },
   "source": [
    "<center><img src=\"img/intro/05.png\" width=\"700\" height=\"500\" align=\"middle\" alt=\"lenguajes\"/>"
   ]
  },
  {
   "cell_type": "markdown",
   "id": "aeb39116",
   "metadata": {
    "slideshow": {
     "slide_type": "slide"
    }
   },
   "source": [
    "<center><img src=\"img/intro/06.jpg\" width=\"800\" height=\"700\" align=\"middle\" alt=\"jupyter\"/>"
   ]
  },
  {
   "cell_type": "markdown",
   "id": "3d3f7c1f",
   "metadata": {
    "slideshow": {
     "slide_type": "slide"
    }
   },
   "source": [
    "<center><img src=\"img/intro/07.png\" width=\"800\" height=\"500\" align=\"middle\" alt=\"wil_joke\"/>"
   ]
  },
  {
   "cell_type": "markdown",
   "id": "5af2c852",
   "metadata": {
    "slideshow": {
     "slide_type": "slide"
    }
   },
   "source": [
    "<center><img src=\"img/intro/08.png\" width=\"800\" height=\"500\" align=\"middle\" alt=\"wil_joke\"/>"
   ]
  },
  {
   "cell_type": "markdown",
   "id": "12418686",
   "metadata": {
    "slideshow": {
     "slide_type": "slide"
    }
   },
   "source": [
    "<center><img src=\"img/intro/09.png\" width=\"800\" height=\"500\" align=\"middle\" alt=\"wil_joke\"/>"
   ]
  },
  {
   "cell_type": "markdown",
   "id": "8fd88005",
   "metadata": {
    "slideshow": {
     "slide_type": "slide"
    }
   },
   "source": [
    "## <center> **Sistemas Operativos**\n",
    "<center><img src=\"img/SO/01_02.png\" width=\"800\" height=\"500\" align=\"middle\" alt=\"wil_joke\"/>"
   ]
  },
  {
   "cell_type": "markdown",
   "id": "d9eddf9c",
   "metadata": {
    "slideshow": {
     "slide_type": "slide"
    }
   },
   "source": [
    "<center><img src=\"img/SO/04.jpg\" width=\"400\" height=\"500\" align=\"middle\" alt=\"wil_joke\"/>"
   ]
  },
  {
   "cell_type": "markdown",
   "id": "46906178",
   "metadata": {},
   "source": [
    "la terminal"
   ]
  },
  {
   "cell_type": "markdown",
   "id": "5182930d",
   "metadata": {},
   "source": [
    "comandos del terminal"
   ]
  },
  {
   "cell_type": "markdown",
   "id": "4f9b49f9",
   "metadata": {},
   "source": [
    "como funciona el internet"
   ]
  },
  {
   "cell_type": "markdown",
   "id": "3ab64512",
   "metadata": {},
   "source": [
    "servidor cliente"
   ]
  },
  {
   "cell_type": "markdown",
   "id": "55ceb317",
   "metadata": {},
   "source": [
    "foto de mariposa"
   ]
  },
  {
   "cell_type": "markdown",
   "id": "aa98a157",
   "metadata": {},
   "source": [
    "como funciona el internet"
   ]
  },
  {
   "cell_type": "markdown",
   "id": "b652bca1",
   "metadata": {},
   "source": [
    "url"
   ]
  },
  {
   "cell_type": "markdown",
   "id": "98b35870",
   "metadata": {},
   "source": [
    "servidores"
   ]
  },
  {
   "cell_type": "markdown",
   "id": "9401c376",
   "metadata": {},
   "source": [
    "estandares de la web movil friendy"
   ]
  },
  {
   "cell_type": "markdown",
   "id": "1f2a50ef",
   "metadata": {},
   "source": []
  },
  {
   "cell_type": "markdown",
   "id": "dbbda69c",
   "metadata": {},
   "source": [
    "no romper la web"
   ]
  },
  {
   "cell_type": "markdown",
   "id": "c36e12cc",
   "metadata": {},
   "source": []
  },
  {
   "cell_type": "markdown",
   "id": "ff8e5a8f",
   "metadata": {
    "slideshow": {
     "slide_type": "slide"
    }
   },
   "source": [
    "html code"
   ]
  },
  {
   "cell_type": "markdown",
   "id": "ce20b05d",
   "metadata": {
    "slideshow": {
     "slide_type": "slide"
    }
   },
   "source": [
    "css"
   ]
  },
  {
   "cell_type": "markdown",
   "id": "4ff3a015",
   "metadata": {
    "slideshow": {
     "slide_type": "slide"
    }
   },
   "source": [
    "js"
   ]
  },
  {
   "cell_type": "markdown",
   "id": "b23296a3",
   "metadata": {
    "slideshow": {
     "slide_type": "slide"
    }
   },
   "source": [
    "editores"
   ]
  },
  {
   "cell_type": "markdown",
   "id": "e6b487a1",
   "metadata": {},
   "source": [
    "estandates "
   ]
  },
  {
   "cell_type": "markdown",
   "id": "363c8d9f",
   "metadata": {},
   "source": []
  },
  {
   "cell_type": "markdown",
   "id": "a9fc4f79",
   "metadata": {},
   "source": []
  },
  {
   "cell_type": "markdown",
   "id": "1c696864",
   "metadata": {},
   "source": []
  },
  {
   "cell_type": "markdown",
   "id": "26aae024",
   "metadata": {
    "slideshow": {
     "slide_type": "slide"
    }
   },
   "source": [
    "arquitectura statica"
   ]
  },
  {
   "cell_type": "markdown",
   "id": "1a938309",
   "metadata": {},
   "source": [
    "arquitectura dinamica"
   ]
  },
  {
   "cell_type": "markdown",
   "id": "76e6f4b2",
   "metadata": {},
   "source": []
  },
  {
   "cell_type": "markdown",
   "id": "60dad13e",
   "metadata": {},
   "source": []
  },
  {
   "cell_type": "markdown",
   "id": "a6e680fa",
   "metadata": {},
   "source": []
  },
  {
   "cell_type": "markdown",
   "id": "294e593b",
   "metadata": {},
   "source": []
  },
  {
   "cell_type": "markdown",
   "id": "8797eb50",
   "metadata": {},
   "source": []
  },
  {
   "cell_type": "markdown",
   "id": "2dbfc995",
   "metadata": {},
   "source": []
  }
 ],
 "metadata": {
  "celltoolbar": "Slideshow",
  "kernelspec": {
   "display_name": "Python 3",
   "language": "python",
   "name": "python3"
  },
  "language_info": {
   "codemirror_mode": {
    "name": "ipython",
    "version": 3
   },
   "file_extension": ".py",
   "mimetype": "text/x-python",
   "name": "python",
   "nbconvert_exporter": "python",
   "pygments_lexer": "ipython3",
   "version": "3.8.8"
  }
 },
 "nbformat": 4,
 "nbformat_minor": 5
}
